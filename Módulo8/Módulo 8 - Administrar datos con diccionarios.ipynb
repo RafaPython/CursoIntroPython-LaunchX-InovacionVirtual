{
 "cells": [
  {
   "cell_type": "markdown",
   "metadata": {},
   "source": [
    "# Módulo 8 - Administrar datos con diccionarios\n",
    "\n",
    "### Creacción de un diccionario \n",
    "\n",
    "Python utiliza llaves $\\{\\;\\}$ y dos puntos $:$ para indicar un diccionario. Cada clave o valor está serparado por dos puntos y el nombre de cada clave se incluye entre comillas como un literal de cadena. Cada elemento va separado por una coma. Puede ser el que sea pero debe ser el más conveniente. \n",
    "\n",
    "Veremos un ejemplo a continuación"
   ]
  },
  {
   "cell_type": "code",
   "execution_count": 82,
   "metadata": {},
   "outputs": [],
   "source": [
    "libros ={\n",
    "    'name' : 'El oro de los tigres',\n",
    "    'author' : 'Jorge Luis Borges',\n",
    "    'year' : 1972\n",
    "}"
   ]
  },
  {
   "cell_type": "markdown",
   "metadata": {},
   "source": [
    "Aquí 'name' y 'author' se denominan claves y cada una se comporta igual que una variable, es decir, tienen un nombre único y almacenan un valor PERO se almacenan dentro de una variable mucho más grande llamada, en este caso, 'libros'. Hay que tener cuidado con el tipo de dato que se asigna a cada variable dentro de la llave, pueden ser sel tipo que sea. \n",
    "\n",
    "A diferencia de las variables convencionales, las claves (variables dentro de las llaves) no necesitan seguir las reglas de la nomenclatura estándar de python por lo que se recomienda encarecidadmente ser descriptivo en el código. \n",
    "\n",
    "### Lectura de los valores de un diccionario\n",
    "\n",
    "Para leer los objetos de un diccionario se utiliza el método llamado $.get()$ que admite como entrada el string de clave, por ejemplo"
   ]
  },
  {
   "cell_type": "code",
   "execution_count": 83,
   "metadata": {},
   "outputs": [
    {
     "name": "stdout",
     "output_type": "stream",
     "text": [
      "Jorge Luis Borges\n"
     ]
    }
   ],
   "source": [
    "print(libros.get('author'))"
   ]
  },
  {
   "cell_type": "markdown",
   "metadata": {},
   "source": [
    "Una forma más compacta de hacer lo anterior es simplemente $diccionario[clave]$ es decir "
   ]
  },
  {
   "cell_type": "code",
   "execution_count": 84,
   "metadata": {},
   "outputs": [
    {
     "data": {
      "text/plain": [
       "'Jorge Luis Borges'"
      ]
     },
     "execution_count": 84,
     "metadata": {},
     "output_type": "execute_result"
    }
   ],
   "source": [
    "libros['author']"
   ]
  },
  {
   "cell_type": "markdown",
   "metadata": {},
   "source": [
    "Ambos imprimen strings pero el primero tiene un $print()$. \n",
    "\n",
    "La diferencia importante y fundamental entre estos dos es que en caso de no existir la clave $.get()$ arroja $none$ y $[\\;]$ arroja un $KeyError$.\n",
    "\n",
    "### Modificación de valores en un diccionario\n",
    "\n",
    "El método para modificar elementos en un diccionario es utilizar $.update(\\left \\{ i: j\\right \\})$ donde $i$ es la clave a remplazar y $j$ es el nuevo nombre. Los corchetes son importantes.  Un ejemplo es el siguiente"
   ]
  },
  {
   "cell_type": "code",
   "execution_count": 85,
   "metadata": {},
   "outputs": [],
   "source": [
    "libros.update({'name':'nombre'})"
   ]
  },
  {
   "cell_type": "markdown",
   "metadata": {},
   "source": [
    "Asimismo se puede utilizar una notación similar al apartado anterior, de la sigiuente forma "
   ]
  },
  {
   "cell_type": "code",
   "execution_count": 86,
   "metadata": {},
   "outputs": [],
   "source": [
    "libros['nombre'] = 'name'"
   ]
  },
  {
   "cell_type": "markdown",
   "metadata": {},
   "source": [
    "La ventaja de utilizar $uptade$  es que se pueden modifiar varios datos a ala vez, de la siguiente forma"
   ]
  },
  {
   "cell_type": "code",
   "execution_count": 87,
   "metadata": {},
   "outputs": [],
   "source": [
    "libros.update({\n",
    "    'name': 'nombre',\n",
    "    'year': 'año'\n",
    "})"
   ]
  },
  {
   "cell_type": "markdown",
   "metadata": {},
   "source": [
    "### Adición y eliminación de claves\n",
    "\n",
    "Para añadir claves hace falta simplemente usar un $update$ con corchetes $[\\;]$ con la clave a añadir "
   ]
  },
  {
   "cell_type": "code",
   "execution_count": 88,
   "metadata": {},
   "outputs": [
    {
     "data": {
      "text/plain": [
       "{'name': 'nombre',\n",
       " 'author': 'Jorge Luis Borges',\n",
       " 'year': 'año',\n",
       " 'nombre': 'name',\n",
       " 'pais': 'argentina'}"
      ]
     },
     "execution_count": 88,
     "metadata": {},
     "output_type": "execute_result"
    }
   ],
   "source": [
    "libros['pais'] = 'argentina'\n",
    "libros  #Verificamos que se haya añadido "
   ]
  },
  {
   "cell_type": "markdown",
   "metadata": {},
   "source": [
    "Para eliminar claves solo hace falta utilizar el elemento $.pop()$ que admite como entrada la clave a eliminar"
   ]
  },
  {
   "cell_type": "code",
   "execution_count": 89,
   "metadata": {},
   "outputs": [
    {
     "data": {
      "text/plain": [
       "{'name': 'nombre',\n",
       " 'author': 'Jorge Luis Borges',\n",
       " 'year': 'año',\n",
       " 'nombre': 'name'}"
      ]
     },
     "execution_count": 89,
     "metadata": {},
     "output_type": "execute_result"
    }
   ],
   "source": [
    "libros.pop('pais')\n",
    "libros  # Verificamos que los cambios se hayan hecho"
   ]
  },
  {
   "cell_type": "markdown",
   "metadata": {},
   "source": [
    "### Tipos de data complejos \n",
    "\n",
    "Los diccionarios pueden almacenar otros diccionarios. Esto permite almaenar una cantidad de datos enorme pro cada diccionario y sobre todo expandir la cantidad de datos específicos del tema. Estos se llaman diccionarios anidados. Para hacerlo se hace lo siguiente: "
   ]
  },
  {
   "cell_type": "code",
   "execution_count": 90,
   "metadata": {},
   "outputs": [
    {
     "data": {
      "text/plain": [
       "{'name': 'nombre',\n",
       " 'author': 'Jorge Luis Borges',\n",
       " 'year': 'año',\n",
       " 'nombre': 'name',\n",
       " 'trabajos': {'prosa': 36, 'verso': 17}}"
      ]
     },
     "execution_count": 90,
     "metadata": {},
     "output_type": "execute_result"
    }
   ],
   "source": [
    "# Añadimos datos \n",
    "libros['trabajos'] = {\n",
    "    'prosa': 36,\n",
    "    'verso': 17\n",
    "}\n",
    "libros"
   ]
  },
  {
   "cell_type": "markdown",
   "metadata": {},
   "source": [
    "Para recuperar claves de diccionarios anidados se realiza los siguiente "
   ]
  },
  {
   "cell_type": "code",
   "execution_count": 91,
   "metadata": {},
   "outputs": [
    {
     "name": "stdout",
     "output_type": "stream",
     "text": [
      "Jorge Luis Borges con un número de trabajos de 36  prosas escritas.\n"
     ]
    }
   ],
   "source": [
    "print(f\"{libros['author']} con un número de trabajos de {libros['trabajos']['prosa']}  prosas escritas.\")"
   ]
  },
  {
   "cell_type": "markdown",
   "metadata": {},
   "source": [
    "### Programación dinámica con diccionarios \n",
    "\n",
    "Python permite tratar a las claves dentro de un diccionario como una lista. Se puede determinar de manera dinámica las claves y los valores y realizar varios cálculos con ellos. \n",
    "\n",
    "#### Recuperación de todas las claves y valores\n",
    "\n",
    "La forma $keys()$ devuelve un objeto en forma de lista con todas las claves. Si se tiene un diccionario anidado se puede iterara dada esta característica. Por ejemplo, se tiene el siguiente diccionario"
   ]
  },
  {
   "cell_type": "code",
   "execution_count": 92,
   "metadata": {},
   "outputs": [],
   "source": [
    "lluvia = {\n",
    "    'octubre': 3.5,\n",
    "    'noviembre': 4.2,\n",
    "    'diciembre': 2.1\n",
    "}"
   ]
  },
  {
   "cell_type": "code",
   "execution_count": 93,
   "metadata": {},
   "outputs": [
    {
     "name": "stdout",
     "output_type": "stream",
     "text": [
      "octubre: 3.5 centimetros\n",
      "noviembre: 4.2 centimetros\n",
      "diciembre: 2.1 centimetros\n"
     ]
    }
   ],
   "source": [
    "#   Forma iterada\n",
    "for key in lluvia.keys():\n",
    "    print(f'{key}: {lluvia[key]} centimetros')  # Dado que se puede leer como lista"
   ]
  },
  {
   "cell_type": "code",
   "execution_count": 94,
   "metadata": {},
   "outputs": [
    {
     "data": {
      "text/plain": [
       "dict_keys(['octubre', 'noviembre', 'diciembre'])"
      ]
     },
     "execution_count": 94,
     "metadata": {},
     "output_type": "execute_result"
    }
   ],
   "source": [
    "#   Forma no-iterada\n",
    "lluvia.keys()"
   ]
  },
  {
   "cell_type": "markdown",
   "metadata": {},
   "source": [
    "### Determinando la existencia de una clave en un diccionario\n",
    "\n",
    "Se puede comprobar la existencia de una clave con $in$"
   ]
  },
  {
   "cell_type": "code",
   "execution_count": 95,
   "metadata": {},
   "outputs": [
    {
     "data": {
      "text/plain": [
       "False"
      ]
     },
     "execution_count": 95,
     "metadata": {},
     "output_type": "execute_result"
    }
   ],
   "source": [
    "'enero' in lluvia"
   ]
  },
  {
   "cell_type": "markdown",
   "metadata": {},
   "source": [
    "Algo más interesante podría hacer que se revise la existencia de una clave en un diccionario y si es así que lo escriba "
   ]
  },
  {
   "cell_type": "code",
   "execution_count": 96,
   "metadata": {},
   "outputs": [
    {
     "data": {
      "text/plain": [
       "{'octubre': 3.5, 'noviembre': 4.2, 'diciembre': 2.1, 'enero': 2.1}"
      ]
     },
     "execution_count": 96,
     "metadata": {},
     "output_type": "execute_result"
    }
   ],
   "source": [
    "if ('enero' in lluvia) is False : \n",
    "    lluvia['enero'] = 2.1\n",
    "lluvia  # Revisamos que se haya añadido correctamente"
   ]
  },
  {
   "cell_type": "markdown",
   "metadata": {},
   "source": [
    "### Recuperar todos los valores de un diccionario\n",
    "\n",
    "De manera similar a $.keys()$, tenemos otra forma de hacerlo: esta es $.values()$ que devuelve una lista con todos los alores de un diccionario sin sus claves correspondientes. Puede resultar útil cuando se utiliza la clave con fines de etiquetado. \n",
    "\n",
    "En el siguiente ejemplo calculamos el total de lluvia caída "
   ]
  },
  {
   "cell_type": "code",
   "execution_count": 98,
   "metadata": {},
   "outputs": [
    {
     "name": "stdout",
     "output_type": "stream",
     "text": [
      "La lluvia total es: 11.9\n"
     ]
    }
   ],
   "source": [
    "lluvia_total = 0 \n",
    "for value in lluvia.values():\n",
    "    lluvia_total = value + lluvia_total\n",
    "print('La lluvia total es:', lluvia_total)\n"
   ]
  },
  {
   "cell_type": "code",
   "execution_count": 104,
   "metadata": {},
   "outputs": [
    {
     "data": {
      "text/plain": [
       "dict_values([3.5, 4.2, 2.1, 2.1])"
      ]
     },
     "execution_count": 104,
     "metadata": {},
     "output_type": "execute_result"
    }
   ],
   "source": [
    "lluvia.values()"
   ]
  }
 ],
 "metadata": {
  "interpreter": {
   "hash": "a6142ba63bfc8c7147a8b00f0f36ba8b70392e253ee028f158dc436992103992"
  },
  "kernelspec": {
   "display_name": "Python 3.9.7 ('base')",
   "language": "python",
   "name": "python3"
  },
  "language_info": {
   "codemirror_mode": {
    "name": "ipython",
    "version": 3
   },
   "file_extension": ".py",
   "mimetype": "text/x-python",
   "name": "python",
   "nbconvert_exporter": "python",
   "pygments_lexer": "ipython3",
   "version": "3.9.7"
  },
  "orig_nbformat": 4
 },
 "nbformat": 4,
 "nbformat_minor": 2
}
