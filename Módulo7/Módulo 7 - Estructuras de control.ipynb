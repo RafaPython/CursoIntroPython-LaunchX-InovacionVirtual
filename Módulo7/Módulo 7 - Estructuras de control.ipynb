{
 "cells": [
  {
   "cell_type": "markdown",
   "metadata": {},
   "source": [
    "# Estructuras de control\n",
    "\n",
    "$while$ se utiliza cuando se desconoce el número de veces a realizar una condición o para realizar una condición cuantas veces sea necesaria mientras se cumpla una condición. \n",
    "\n",
    "$Nota$: Aquí no sabía qué apuntar pues ya conocía la mayoría de cosas, solo anoté lo anterior porque me parece una forma interesante de ver el while."
   ]
  }
 ],
 "metadata": {
  "interpreter": {
   "hash": "a6142ba63bfc8c7147a8b00f0f36ba8b70392e253ee028f158dc436992103992"
  },
  "kernelspec": {
   "display_name": "Python 3.9.7 ('base')",
   "language": "python",
   "name": "python3"
  },
  "language_info": {
   "codemirror_mode": {
    "name": "ipython",
    "version": 3
   },
   "file_extension": ".py",
   "mimetype": "text/x-python",
   "name": "python",
   "nbconvert_exporter": "python",
   "pygments_lexer": "ipython3",
   "version": "3.9.7"
  },
  "orig_nbformat": 4
 },
 "nbformat": 4,
 "nbformat_minor": 2
}
