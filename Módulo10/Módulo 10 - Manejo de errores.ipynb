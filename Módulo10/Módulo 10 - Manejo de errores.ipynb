{
 "cells": [
  {
   "cell_type": "markdown",
   "metadata": {},
   "source": [
    "# Módulo 10 - Manejo de errores\n",
    "\n",
    "### Tracebacks \n",
    "\n",
    "Se le llama traceback al cuerpo del texto de un error no controlado. Cada tipo de error tiene su nombre en particular. Demos un ejemplo:\n",
    "\n",
    "open(\"/path/to/mars.jpg\")\n",
    "Traceback (most recent call last):\n",
    "File \"<stdin>\", line 1, in <module>\n",
    "FileNotFoundError: [Errno 2] No such file or directory: '/path/to/mars.jpg'\n",
    "\n",
    "En el ejemplo anterior se nos informa que el tipo de archivo es $stdin$ que es la entrada en el terninal intereactivo y el nombre del error es $FileNotFoundError$. Los tracebacks casi siempre contienen la información siguiente\n",
    "\n",
    "1. Todas las rutas de acceso de archivo implicadas para cada llamada a cada función.\n",
    "2. Los números de línea asociados a cada ruta de acceso de archivo.\n",
    "3. Los nombres de las funciones, métodos o clases implicados en la generación de una exepción. \n",
    "4. El nombre de la excepción que se ha producido.\n",
    "\n",
    "Para ello tenemos el comando $try$ que básicamente es un 'intenta hacer esto' y si cierto error surge entonces se salta las lineas entre la linea de error y la excepción y ejecuta la excepción. Es decir, si existe alguna instrucción como $break$ esta no se realizará y se irá directo a la excepción.\n",
    "\n",
    "El formato es el siguiente\n",
    "\n",
    "try:\n",
    "    \n",
    "    # acción a realizar\n",
    "    \n",
    "    -> aquí se genera el error\n",
    "    \n",
    "    # acciones que se saltarán\n",
    "\n",
    "except $NombreDelError$:\n",
    "    \n",
    "    # acción a ejecutar si el error se presenta\n",
    "\n"
   ]
  },
  {
   "cell_type": "markdown",
   "metadata": {},
   "source": [
    "Los errores pueden llegar a ser frustrantes dado que pueden no indicar el error real, porporcionan una salida que no coincida con el problema real o que no sugieran lo que se puede hacer para corregir el problema.\n",
    "\n",
    "Se puede agrupar varios errores en la excepción tal que $except(error1,error2,\\cdots ,errorN)$. Aunque esto pueda resultar tentado, es recomendado solo hacerlo cuando no es necesario manejar cada error individualmente. \n",
    "\n",
    "Se puede \"guardar este error como variable\" extendiendo la excepción con la form $as$ con el nombre de la variable que se le quiera asigar, por ejemplo "
   ]
  },
  {
   "cell_type": "code",
   "execution_count": 2,
   "metadata": {},
   "outputs": [
    {
     "name": "stdout",
     "output_type": "stream",
     "text": [
      "Se encontró un problema al leer el archivo [Errno 2] No such file or directory: 'luna.jpg'\n"
     ]
    }
   ],
   "source": [
    "try: \n",
    "    open('luna.jpg')\n",
    "except FileNotFoundError as err:\n",
    "    print('Se encontró un problema al leer el archivo', err)"
   ]
  },
  {
   "cell_type": "markdown",
   "metadata": {},
   "source": [
    "aquí se almacenó el problema en $err$, aunque no lo podemos imprimir como si fuera una variable. Otra razón para usar esto es para acceder directamente a los atributos el error en, por ejemplo, si se detecta una excepción genérica como $OSError$ que es la excepción primaria de $FileNotFoundError$ y $PermissError$, se pueden diferenciar mediante el atributo $.errno$"
   ]
  },
  {
   "cell_type": "code",
   "execution_count": 5,
   "metadata": {},
   "outputs": [
    {
     "name": "stdout",
     "output_type": "stream",
     "text": [
      "No se pude encontrar el archivo!\n"
     ]
    }
   ],
   "source": [
    "try: \n",
    "    open('luna.jpg')\n",
    "except OSError as err:\n",
    "    if err.errno == 2:\n",
    "        print('No se pude encontrar el archivo!')\n",
    "    elif err.errno == 13:\n",
    "        print('Se encontró luna.jpg pero no se puede leer')"
   ]
  },
  {
   "cell_type": "markdown",
   "metadata": {},
   "source": [
    "### Generación de excepciones \n",
    "\n",
    "A veces resulta útil crear programas que permitan el manejo de errores más inteligentemente para otros códigos.A hora veremos como crear errores. Se utiliza el comando $raise\\;RunTimeError()$ que admite la entrada de un string describiendo el error, al menos en el caso siguiente"
   ]
  },
  {
   "cell_type": "code",
   "execution_count": 18,
   "metadata": {},
   "outputs": [
    {
     "ename": "RuntimeError",
     "evalue": "Nuestro valor no es real!",
     "output_type": "error",
     "traceback": [
      "\u001b[1;31m---------------------------------------------------------------------------\u001b[0m",
      "\u001b[1;31mRuntimeError\u001b[0m                              Traceback (most recent call last)",
      "\u001b[1;32m~\\AppData\\Local\\Temp/ipykernel_12544/4066882201.py\u001b[0m in \u001b[0;36m<module>\u001b[1;34m\u001b[0m\n\u001b[0;32m      5\u001b[0m         \u001b[1;32mraise\u001b[0m \u001b[0mRuntimeError\u001b[0m\u001b[1;33m(\u001b[0m\u001b[1;34mf\"Nuestro valor no es real!\"\u001b[0m\u001b[1;33m)\u001b[0m\u001b[1;33m\u001b[0m\u001b[1;33m\u001b[0m\u001b[0m\n\u001b[0;32m      6\u001b[0m     \u001b[1;32mreturn\u001b[0m \u001b[0mmath\u001b[0m\u001b[1;33m.\u001b[0m\u001b[0msqrt\u001b[0m\u001b[1;33m(\u001b[0m\u001b[0mroot\u001b[0m\u001b[1;33m)\u001b[0m\u001b[1;33m\u001b[0m\u001b[1;33m\u001b[0m\u001b[0m\n\u001b[1;32m----> 7\u001b[1;33m \u001b[0mejemplo\u001b[0m\u001b[1;33m(\u001b[0m\u001b[1;36m1\u001b[0m\u001b[1;33m,\u001b[0m\u001b[1;36m2\u001b[0m\u001b[1;33m)\u001b[0m\u001b[1;33m\u001b[0m\u001b[1;33m\u001b[0m\u001b[0m\n\u001b[0m",
      "\u001b[1;32m~\\AppData\\Local\\Temp/ipykernel_12544/2665581355.py\u001b[0m in \u001b[0;36mejemplo\u001b[1;34m(a, b)\u001b[0m\n\u001b[0;32m      3\u001b[0m     \u001b[0mroot\u001b[0m \u001b[1;33m=\u001b[0m \u001b[0ma\u001b[0m \u001b[1;33m-\u001b[0m\u001b[0mb\u001b[0m\u001b[1;33m\u001b[0m\u001b[1;33m\u001b[0m\u001b[0m\n\u001b[0;32m      4\u001b[0m     \u001b[1;32mif\u001b[0m \u001b[0mroot\u001b[0m \u001b[1;33m<\u001b[0m \u001b[1;36m0\u001b[0m\u001b[1;33m:\u001b[0m\u001b[1;33m\u001b[0m\u001b[1;33m\u001b[0m\u001b[0m\n\u001b[1;32m----> 5\u001b[1;33m         \u001b[1;32mraise\u001b[0m \u001b[0mRuntimeError\u001b[0m\u001b[1;33m(\u001b[0m\u001b[1;34mf\"Nuestro valor no es real!\"\u001b[0m\u001b[1;33m)\u001b[0m\u001b[1;33m\u001b[0m\u001b[1;33m\u001b[0m\u001b[0m\n\u001b[0m\u001b[0;32m      6\u001b[0m     \u001b[1;32mreturn\u001b[0m \u001b[0mmath\u001b[0m\u001b[1;33m.\u001b[0m\u001b[0msqrt\u001b[0m\u001b[1;33m(\u001b[0m\u001b[0mroot\u001b[0m\u001b[1;33m)\u001b[0m\u001b[1;33m\u001b[0m\u001b[1;33m\u001b[0m\u001b[0m\n\u001b[0;32m      7\u001b[0m \u001b[0mejemplo\u001b[0m\u001b[1;33m(\u001b[0m\u001b[1;36m1\u001b[0m\u001b[1;33m,\u001b[0m\u001b[1;36m2\u001b[0m\u001b[1;33m)\u001b[0m\u001b[1;33m\u001b[0m\u001b[1;33m\u001b[0m\u001b[0m\n",
      "\u001b[1;31mRuntimeError\u001b[0m: Nuestro valor no es real!"
     ]
    }
   ],
   "source": [
    "import math\n",
    "def raiz(a,b):\n",
    "    root = a -b\n",
    "    if root < 0: \n",
    "        raise RuntimeError(f\"Nuestro valor no es real!\")\n",
    "    return math.sqrt(root)\n",
    "ejemplo(1,2)"
   ]
  },
  {
   "cell_type": "markdown",
   "metadata": {},
   "source": [
    "Ahora el código puede usar $RuntimeError$ para generar la alerta."
   ]
  },
  {
   "cell_type": "code",
   "execution_count": 22,
   "metadata": {},
   "outputs": [
    {
     "name": "stdout",
     "output_type": "stream",
     "text": [
      "Nuestro valor no es real!\n"
     ]
    }
   ],
   "source": [
    "#   Según yo va algo así \n",
    "\n",
    "class err(Exception):\n",
    "    '''Caso base para otros errores'''\n",
    "    pass\n",
    "class raiz_no_real(err):\n",
    "    '''La raíz no es real'''\n",
    "    pass\n",
    "try:\n",
    "    raiz(1,2)\n",
    "except RuntimeError as err: \n",
    "    print(raiz_no_real(err))"
   ]
  },
  {
   "cell_type": "markdown",
   "metadata": {},
   "source": [
    "Vamos a hacerlo a prueba de dummys para ver que se introduzcan valores numéricos"
   ]
  },
  {
   "cell_type": "code",
   "execution_count": 31,
   "metadata": {},
   "outputs": [],
   "source": [
    "def raiz(a,b):\n",
    "    for argumento in [a,b]:\n",
    "        try:\n",
    "            int(argumento)  # Esto debería dar error si no es entero\n",
    "        except ValueError: \n",
    "            raise TypeError(f'Introduzca un valor numérico')\n",
    "    root = a-b \n",
    "    if root < 0 :\n",
    "        raise RuntimeError(f'Nuestro valor no es real!')\n",
    "    return math.sqrt(root)\n"
   ]
  },
  {
   "cell_type": "markdown",
   "metadata": {},
   "source": [
    "Volvemos a intentarlo"
   ]
  },
  {
   "cell_type": "code",
   "execution_count": 32,
   "metadata": {},
   "outputs": [
    {
     "ename": "TypeError",
     "evalue": "Introduzca un valor numérico",
     "output_type": "error",
     "traceback": [
      "\u001b[1;31m---------------------------------------------------------------------------\u001b[0m",
      "\u001b[1;31mValueError\u001b[0m                                Traceback (most recent call last)",
      "\u001b[1;32m~\\AppData\\Local\\Temp/ipykernel_12544/1339097651.py\u001b[0m in \u001b[0;36mraiz\u001b[1;34m(a, b)\u001b[0m\n\u001b[0;32m      3\u001b[0m         \u001b[1;32mtry\u001b[0m\u001b[1;33m:\u001b[0m\u001b[1;33m\u001b[0m\u001b[1;33m\u001b[0m\u001b[0m\n\u001b[1;32m----> 4\u001b[1;33m             \u001b[0mint\u001b[0m\u001b[1;33m(\u001b[0m\u001b[0margumento\u001b[0m\u001b[1;33m)\u001b[0m  \u001b[1;31m# Esto debería dar error si no es entero\u001b[0m\u001b[1;33m\u001b[0m\u001b[1;33m\u001b[0m\u001b[0m\n\u001b[0m\u001b[0;32m      5\u001b[0m         \u001b[1;32mexcept\u001b[0m \u001b[0mValueError\u001b[0m\u001b[1;33m:\u001b[0m\u001b[1;33m\u001b[0m\u001b[1;33m\u001b[0m\u001b[0m\n",
      "\u001b[1;31mValueError\u001b[0m: invalid literal for int() with base 10: 'a'",
      "\nDuring handling of the above exception, another exception occurred:\n",
      "\u001b[1;31mTypeError\u001b[0m                                 Traceback (most recent call last)",
      "\u001b[1;32m~\\AppData\\Local\\Temp/ipykernel_12544/1812233789.py\u001b[0m in \u001b[0;36m<module>\u001b[1;34m\u001b[0m\n\u001b[1;32m----> 1\u001b[1;33m \u001b[0mraiz\u001b[0m\u001b[1;33m(\u001b[0m\u001b[1;34m'a'\u001b[0m\u001b[1;33m,\u001b[0m\u001b[1;36m2\u001b[0m\u001b[1;33m)\u001b[0m\u001b[1;33m\u001b[0m\u001b[1;33m\u001b[0m\u001b[0m\n\u001b[0m",
      "\u001b[1;32m~\\AppData\\Local\\Temp/ipykernel_12544/1339097651.py\u001b[0m in \u001b[0;36mraiz\u001b[1;34m(a, b)\u001b[0m\n\u001b[0;32m      4\u001b[0m             \u001b[0mint\u001b[0m\u001b[1;33m(\u001b[0m\u001b[0margumento\u001b[0m\u001b[1;33m)\u001b[0m  \u001b[1;31m# Esto debería dar error si no es entero\u001b[0m\u001b[1;33m\u001b[0m\u001b[1;33m\u001b[0m\u001b[0m\n\u001b[0;32m      5\u001b[0m         \u001b[1;32mexcept\u001b[0m \u001b[0mValueError\u001b[0m\u001b[1;33m:\u001b[0m\u001b[1;33m\u001b[0m\u001b[1;33m\u001b[0m\u001b[0m\n\u001b[1;32m----> 6\u001b[1;33m             \u001b[1;32mraise\u001b[0m \u001b[0mTypeError\u001b[0m\u001b[1;33m(\u001b[0m\u001b[1;34mf'Introduzca un valor numérico'\u001b[0m\u001b[1;33m)\u001b[0m\u001b[1;33m\u001b[0m\u001b[1;33m\u001b[0m\u001b[0m\n\u001b[0m\u001b[0;32m      7\u001b[0m     \u001b[0mroot\u001b[0m \u001b[1;33m=\u001b[0m \u001b[0ma\u001b[0m\u001b[1;33m-\u001b[0m\u001b[0mb\u001b[0m\u001b[1;33m\u001b[0m\u001b[1;33m\u001b[0m\u001b[0m\n\u001b[0;32m      8\u001b[0m     \u001b[1;32mif\u001b[0m \u001b[0mroot\u001b[0m \u001b[1;33m<\u001b[0m \u001b[1;36m0\u001b[0m \u001b[1;33m:\u001b[0m\u001b[1;33m\u001b[0m\u001b[1;33m\u001b[0m\u001b[0m\n",
      "\u001b[1;31mTypeError\u001b[0m: Introduzca un valor numérico"
     ]
    }
   ],
   "source": [
    "raiz('a',2)"
   ]
  }
 ],
 "metadata": {
  "interpreter": {
   "hash": "a6142ba63bfc8c7147a8b00f0f36ba8b70392e253ee028f158dc436992103992"
  },
  "kernelspec": {
   "display_name": "Python 3.9.7 ('base')",
   "language": "python",
   "name": "python3"
  },
  "language_info": {
   "codemirror_mode": {
    "name": "ipython",
    "version": 3
   },
   "file_extension": ".py",
   "mimetype": "text/x-python",
   "name": "python",
   "nbconvert_exporter": "python",
   "pygments_lexer": "ipython3",
   "version": "3.9.7"
  },
  "orig_nbformat": 4
 },
 "nbformat": 4,
 "nbformat_minor": 2
}
