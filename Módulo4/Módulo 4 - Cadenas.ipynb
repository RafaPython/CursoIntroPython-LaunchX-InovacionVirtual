{
 "cells": [
  {
   "cell_type": "markdown",
   "metadata": {},
   "source": [
    "# Conceptos básicos de cadenas en Python\n",
    "\n",
    "### Acerca del uso de comillas \n",
    "\n",
    "Si bien se puede utilizar comillas simples, dobles o triples, es recomendable utilizar un solo tipo de manera consistente dentro de un proyecto. En caso de que una frase contenga el uso de comillas dobles o simples se debe de alternar entre las posibles, simple utilizando un solo tipo para encerrar el string completo; de otra forma se arrojará un error. \n",
    "\n",
    "### Texto multilínea \n",
    "\n",
    "Hay dos formas para crear texto multilinea, es decir, hacer un salto de línea:\n",
    "1. Utilizar $ \\setminus n $\n",
    "2. Utilizar comillas triples \"\"\"\n",
    "\n",
    "### Métodos string en python\n",
    "\n",
    "Se puede crear un stringo con el método $.tittle()$. \n",
    "#### Dividir una cadena\n",
    "\n",
    "Para dividir un string es común el uso de $.split()$, si el argumento está vacío dividirá al string por cada espacio, si se tiene varias líneas utilizar el caracter $\\setminus n$ es el ideal, por otra parte se puede utilizar cualquier tipo de carácter (si se decidiera elegir, por ejemplo, utilizar una letra o palabra se debe de poner en comillas). El resultado siempre será una lista. "
   ]
  },
  {
   "cell_type": "code",
   "execution_count": 4,
   "metadata": {},
   "outputs": [
    {
     "data": {
      "text/plain": [
       "['t', 'd', 'p', 'der', 's', '']"
      ]
     },
     "execution_count": 4,
     "metadata": {},
     "output_type": "execute_result"
    }
   ],
   "source": [
    "t = 'todopoderoso'\n",
    "t.split('o')"
   ]
  },
  {
   "cell_type": "markdown",
   "metadata": {},
   "source": [
    "### Buscar en una cadena\n",
    "\n",
    "La forma más sencilla para descubrir si existe una palabra o un carácter o un grupo de carácteres dentro de un sting  es utilizar la forma $in$ que arroja un valor boleano (True o False). Un ejemplo aplicado es el siguiente."
   ]
  },
  {
   "cell_type": "code",
   "execution_count": 8,
   "metadata": {},
   "outputs": [
    {
     "data": {
      "text/plain": [
       "True"
      ]
     },
     "execution_count": 8,
     "metadata": {},
     "output_type": "execute_result"
    }
   ],
   "source": [
    "'rafa' in 'Buenos días rafa'"
   ]
  },
  {
   "cell_type": "markdown",
   "metadata": {},
   "source": [
    "Una forma para encontrar la posición concreta de una palabra en un string es utilizar el método $.find()$, arroja la posición en número de carácteres individuales de la cadena. Si no se encuentra la palabra o el carácter se arroja como resultado como $-1$."
   ]
  },
  {
   "cell_type": "code",
   "execution_count": 20,
   "metadata": {},
   "outputs": [
    {
     "data": {
      "text/plain": [
       "13"
      ]
     },
     "execution_count": 20,
     "metadata": {},
     "output_type": "execute_result"
    }
   ],
   "source": [
    "ejemplo = 'Tres tristes tigres tragaban trigo en un trigal'\n",
    "ejemplo.find('tigres')"
   ]
  },
  {
   "cell_type": "markdown",
   "metadata": {},
   "source": [
    "Si se quiere saber el número total de apariciones de una palabra determinada se utiliza el $.count()$"
   ]
  },
  {
   "cell_type": "code",
   "execution_count": 12,
   "metadata": {},
   "outputs": [
    {
     "data": {
      "text/plain": [
       "6"
      ]
     },
     "execution_count": 12,
     "metadata": {},
     "output_type": "execute_result"
    }
   ],
   "source": [
    "ejemplo.count('t')"
   ]
  },
  {
   "cell_type": "markdown",
   "metadata": {},
   "source": [
    "Las cadenas de python son sensibles entre mayúsculas y minúsculas. Se pueden utilizar los comandos $.lower()$ para hacer minúsculas todo el string y $.upper()$ para hacer mayúscula todos los carácteres del string. Ninguno de ambos toma argumentos."
   ]
  },
  {
   "cell_type": "code",
   "execution_count": 14,
   "metadata": {},
   "outputs": [
    {
     "data": {
      "text/plain": [
       "'TRES TRISTES TIGRES TRAGABAN TRIGO EN UN TRIGAL'"
      ]
     },
     "execution_count": 14,
     "metadata": {},
     "output_type": "execute_result"
    }
   ],
   "source": [
    "ejemplo2 = 'hola'\n",
    "ejemplo.upper()"
   ]
  },
  {
   "cell_type": "markdown",
   "metadata": {},
   "source": [
    "Esto resulta muy útil para buscar un elemento pues permite la coincidencia. Se suele convertir a minúscula para tal tarea. \n",
    "\n",
    "### Comprobar el contenido\n",
    "\n",
    "Una de las formas en que podemos comprobar contenido es dividir un string en una lista y sustraer aquellos datos divididos/organizados por carácteres especiales (o al menos eso se esperaría).\n",
    "\n",
    "$Tip$: al momento de seleccionar la posición de una lista, utilizar $-1$ arroja el último elemento de una lista. \n",
    "\n",
    "Pero si el texto es irregular no se puede utilzar lo anterior. En dado caso se debe iterar los elementos y comporbar los valores type. \n",
    "\n",
    "Se utiliza el comando $.isnumeric()$ para detectar si es numérico entero (literalmente dice \"es numérico\")y también $.isdecimal()$ para aquellos que se parecen a decimales. Un ejemplo es el siguiente "
   ]
  },
  {
   "cell_type": "code",
   "execution_count": 27,
   "metadata": {},
   "outputs": [
    {
     "name": "stdout",
     "output_type": "stream",
     "text": [
      "30\n"
     ]
    }
   ],
   "source": [
    "sentencia = 'Tres tristes tigres tragaban trigo en un trigal que medía 30 metros.'\n",
    "for _ in sentencia.split():     # Si no se añade el .split() arroja dos lineas de valores, 3 y 0\n",
    "    if _.isnumeric():\n",
    "        print(_)"
   ]
  },
  {
   "cell_type": "markdown",
   "metadata": {},
   "source": [
    "Dato extra: podemos realizar puebras así mismo con un string con este comando y arrojará el resultado boleano de la prueba. El signo menos hace que este string ya no sea completamente numérico y arrojará False."
   ]
  },
  {
   "cell_type": "code",
   "execution_count": 28,
   "metadata": {},
   "outputs": [
    {
     "data": {
      "text/plain": [
       "True"
      ]
     },
     "execution_count": 28,
     "metadata": {},
     "output_type": "execute_result"
    }
   ],
   "source": [
    "'50'.isnumeric()"
   ]
  },
  {
   "cell_type": "markdown",
   "metadata": {},
   "source": [
    "De manera similar, podemos probar utilizando los comandos $.startswith()$ y $.endswith()$ que admiten como entrada strings. Estos, como su nombre dice, dan un resultado boleano si se cunple el string de entrada. Esto puede ser útil para condicionales $if$. Es últi para identificar unidades y otros datos de importancia, por ejemplo"
   ]
  },
  {
   "cell_type": "code",
   "execution_count": 30,
   "metadata": {},
   "outputs": [
    {
     "name": "stdout",
     "output_type": "stream",
     "text": [
      "Thundercat is now 37 years old\n"
     ]
    }
   ],
   "source": [
    "if 'Thundercat aired for the first time in 1985'.endswith('1985'):\n",
    "    print('Thundercat is now 37 years old')"
   ]
  },
  {
   "cell_type": "markdown",
   "metadata": {},
   "source": [
    "### Transformar texto\n",
    "\n",
    "Podemos utilizar el comando $.replace()$ para buscar y remplazar carácteres y palabras dentr de un string por otros. Recibe dos entradas, la primera el texto a buscar y el segundo el remplazo. $Nota$: es recomendable normalizar el texto con $.lower()$ antes de realizar este proceso. "
   ]
  },
  {
   "cell_type": "code",
   "execution_count": 31,
   "metadata": {},
   "outputs": [
    {
     "data": {
      "text/plain": [
       "'thundercat first aired in 1985'"
      ]
     },
     "execution_count": 31,
     "metadata": {},
     "output_type": "execute_result"
    }
   ],
   "source": [
    "thunder = 'Thundercat aired for the first time in 1985'.lower()\n",
    "thunder.replace('aired for the first time','first aired')"
   ]
  },
  {
   "cell_type": "markdown",
   "metadata": {},
   "source": [
    "Así mismo podemos requerir unir texto, para esto utilizaremos el comando $.join()$ que a diferencia de los comandos anteriores, este requiere de un iterable, es decir , de una lista. Recibe como la lista con los elementos a unir y comienza con un string de referencia para saber donde unirlos. Este puede ser, por ejemplo, el carácter $\\setminus n$. "
   ]
  },
  {
   "cell_type": "code",
   "execution_count": 37,
   "metadata": {},
   "outputs": [
    {
     "data": {
      "text/plain": [
       "\"Thundercat aired for the first time in 1985 \\n  It's older than me!\""
      ]
     },
     "execution_count": 37,
     "metadata": {},
     "output_type": "execute_result"
    }
   ],
   "source": [
    "cats = ['Thundercat aired for the first time in 1985', \" It's older than me!\"]\n",
    "' \\n '.join(cats)"
   ]
  },
  {
   "cell_type": "markdown",
   "metadata": {},
   "source": [
    "### Formato de cadenas en Python \n",
    "\n",
    "Explorares variables en cadenas que puedan usar $print()$. \n",
    "\n",
    "#### Formato con signo de porcentaje $\\%$\n",
    "\n",
    "El marcador de posición $\\%s$ con una variable que se pasa después del carácter $\\%$. Un ejemplo  par auna variable y para dos es el siguiente"
   ]
  },
  {
   "cell_type": "code",
   "execution_count": 45,
   "metadata": {},
   "outputs": [
    {
     "name": "stdout",
     "output_type": "stream",
     "text": [
      "Roman Polanski should definely go to jail. No doubts.\n"
     ]
    }
   ],
   "source": [
    "answer1, answer2 = 'definely', 'No doubts'\n",
    "print('Roman Polanski should %s go to jail. %s.' % (answer1,answer2))"
   ]
  },
  {
   "cell_type": "markdown",
   "metadata": {},
   "source": [
    "Este método puede resultar un poco confuso al momento de ordenar varias entradas. Se puede utilizar en su defecto el comando $.format()$ que recibe de forma enumerada los valores asignados a remplazar, cada uno con un $\\{i\\}$, véase el siguiente ejemplo"
   ]
  },
  {
   "cell_type": "code",
   "execution_count": 47,
   "metadata": {},
   "outputs": [
    {
     "name": "stdout",
     "output_type": "stream",
     "text": [
      "Roman Polanski should definely go to jail. No doubts.\n"
     ]
    }
   ],
   "source": [
    "print('Roman Polanski should {0} go to jail. {1}.'.format(answer1,answer2))"
   ]
  },
  {
   "cell_type": "markdown",
   "metadata": {},
   "source": [
    "Nótese que se puede reutilizar un $\\{i\\}$ las veces en el orden que se desee. Una forma más legible es realizar referencias dentro del format. "
   ]
  },
  {
   "cell_type": "code",
   "execution_count": 48,
   "metadata": {},
   "outputs": [
    {
     "name": "stdout",
     "output_type": "stream",
     "text": [
      "Roman Polanski should definely go to jail. No doubts.\n"
     ]
    }
   ],
   "source": [
    "print('Roman Polanski should {definely} go to jail. {Nodoubts}.'.format(definely='definely',Nodoubts='No doubts'))"
   ]
  }
 ],
 "metadata": {
  "interpreter": {
   "hash": "a6142ba63bfc8c7147a8b00f0f36ba8b70392e253ee028f158dc436992103992"
  },
  "kernelspec": {
   "display_name": "Python 3.9.7 ('base')",
   "language": "python",
   "name": "python3"
  },
  "language_info": {
   "codemirror_mode": {
    "name": "ipython",
    "version": 3
   },
   "file_extension": ".py",
   "mimetype": "text/x-python",
   "name": "python",
   "nbconvert_exporter": "python",
   "pygments_lexer": "ipython3",
   "version": "3.9.7"
  },
  "orig_nbformat": 4
 },
 "nbformat": 4,
 "nbformat_minor": 2
}
