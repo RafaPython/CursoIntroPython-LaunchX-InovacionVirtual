{
 "cells": [
  {
   "cell_type": "markdown",
   "metadata": {},
   "source": [
    "# Ejercicio - Excribir declaraciones $if$, $else$ y $elif$\n",
    " \n",
    " ¡Un asteroide se acerca! "
   ]
  },
  {
   "cell_type": "markdown",
   "metadata": {},
   "source": [
    "### Problema 1"
   ]
  },
  {
   "cell_type": "code",
   "execution_count": 2,
   "metadata": {},
   "outputs": [
    {
     "name": "stdout",
     "output_type": "stream",
     "text": [
      "ALERTA ASTEROIDE APROXIMÁNDOSE\n"
     ]
    }
   ],
   "source": [
    "velocidadAsteroide = 49 # Velocidad en km/s\n",
    "\n",
    "if velocidadAsteroide > 25:\n",
    "    print('ALERTA ASTEROIDE APROXIMÁNDOSE')\n",
    "else: \n",
    "    print('No existen amenazas latentes por el momento.')"
   ]
  },
  {
   "cell_type": "markdown",
   "metadata": {},
   "source": [
    "### Problema 2"
   ]
  },
  {
   "cell_type": "code",
   "execution_count": 3,
   "metadata": {},
   "outputs": [
    {
     "name": "stdout",
     "output_type": "stream",
     "text": [
      "No existen amenazas latentes por el momento.\n"
     ]
    }
   ],
   "source": [
    "velocidadAsteroide_tierra = 19  # Velocidad en km/s\n",
    "\n",
    "if velocidadAsteroide_tierra > 20:\n",
    "    print('UN ASTEROIDE ACABA DE ENTRAR A LA ATMÓSFERA, VOLTEA A VER EL CIELO')\n",
    "elif velocidadAsteroide_tierra == 20:\n",
    "    print('UN ASTEROIDE ACABA DE ENTRAR A LA ATMÓSFERA, VOLTEA A VER EL CIELO')\n",
    "else: \n",
    "    print('No existen amenazas latentes por el momento.')"
   ]
  },
  {
   "cell_type": "markdown",
   "metadata": {},
   "source": [
    "### Problema 3\n",
    "\n",
    "$Nota$: Esta es la solución creada a partir de lo que se pide en las instrucciones y de lo que se presenta como solución,  pero no creo que sea lo mejor para resolver el problema pues a mi punto de vista presenta incongruencias con las indicaciones. Después de esta respuesta propongo una donde elaboro según mi entendimiento de las instrucciones. "
   ]
  },
  {
   "cell_type": "code",
   "execution_count": 16,
   "metadata": {},
   "outputs": [
    {
     "name": "stdout",
     "output_type": "stream",
     "text": [
      "UN ASTEROIDE ACABA DE ENTRAR A LA ATMÓSFERA, VOLTEA A VER EL CIELO\n"
     ]
    }
   ],
   "source": [
    "# Honestamente no entiendo la relación de las instrucciones con esta solución.\n",
    "velocidadAsteroide = 25 \n",
    "tamañoAsteroide = 40\n",
    "if velocidadAsteroide > 25 and (tamañoAsteroide > 25 and tamañoAsteroide < 1000):\n",
    "    print('ALERTA ASTEROIDE APROXIMÁNDOSE')\n",
    "elif velocidadAsteroide >= 20 :\n",
    "    print('UN ASTEROIDE ACABA DE ENTRAR A LA ATMÓSFERA, VOLTEA A VER EL CIELO')\n",
    "elif tamañoAsteroide <  25:\n",
    "    print('No existen amenazas latentes por el momento.')\n",
    "else: \n",
    "    print('No existen amenazas latentes por el momento.')"
   ]
  },
  {
   "cell_type": "code",
   "execution_count": 27,
   "metadata": {},
   "outputs": [
    {
     "name": "stdout",
     "output_type": "stream",
     "text": [
      "ALERTA ASTEROIDE APROXIMÁNDOSE\n"
     ]
    }
   ],
   "source": [
    "# Esto es lo que se pide según entiendo las instrucciones\n",
    "velocidadAsteroide = 20\n",
    "tamañoAsteroide = 40\n",
    "\n",
    "if velocidadAsteroide > 25:\n",
    "    print('ALERTA ASTEROIDE APROXIMÁNDOSE')\n",
    "elif tamañoAsteroide > 25 and tamañoAsteroide < 1000:   # Por alguna extraña razón si es menor que 1000 no hay amenaza.\n",
    "    print('ALERTA ASTEROIDE APROXIMÁNDOSE')\n",
    "elif velocidadAsteroide >= 20: \n",
    "    print('UN ASTEROIDE ACABA DE ENTRAR A LA ATMÓSFERA, VOLTEA A VER EL CIELO')\n",
    "else:\n",
    "    print('No existen amenazas latentes por el momento.')"
   ]
  }
 ],
 "metadata": {
  "interpreter": {
   "hash": "a6142ba63bfc8c7147a8b00f0f36ba8b70392e253ee028f158dc436992103992"
  },
  "kernelspec": {
   "display_name": "Python 3.9.7 ('base')",
   "language": "python",
   "name": "python3"
  },
  "language_info": {
   "codemirror_mode": {
    "name": "ipython",
    "version": 3
   },
   "file_extension": ".py",
   "mimetype": "text/x-python",
   "name": "python",
   "nbconvert_exporter": "python",
   "pygments_lexer": "ipython3",
   "version": "3.9.7"
  },
  "orig_nbformat": 4
 },
 "nbformat": 4,
 "nbformat_minor": 2
}
