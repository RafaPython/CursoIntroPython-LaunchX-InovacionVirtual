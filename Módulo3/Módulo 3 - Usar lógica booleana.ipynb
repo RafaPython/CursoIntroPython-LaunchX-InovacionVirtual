{
 "cells": [
  {
   "cell_type": "markdown",
   "metadata": {},
   "source": [
    "# Lógica Boleana \n",
    "\n",
    "### Declaraciones if\n",
    "\n",
    "Tenemos los siguientes operadores lógicos \n",
    "|Operador|Acción|\n",
    "|---|---|\n",
    "|==|Se compara dos valores, haciéndolos igual|\n",
    "|!=|No es igual|\n",
    "|=>,=<|Mayor/menor que|\n",
    "\n",
    "Podemos hacer uso de esos operadores con las siguientes purebas\n"
   ]
  },
  {
   "cell_type": "code",
   "execution_count": 1,
   "metadata": {},
   "outputs": [
    {
     "data": {
      "text/plain": [
       "False"
      ]
     },
     "execution_count": 1,
     "metadata": {},
     "output_type": "execute_result"
    }
   ],
   "source": [
    "a = 9\n",
    "b = 2\n",
    "a == b "
   ]
  },
  {
   "cell_type": "markdown",
   "metadata": {},
   "source": [
    "Las declaraciones $if$ son puertas que se abren si se satisface ciertas condiciones, su estructura es la siguiente \n",
    " \n",
    " $if$ expresión_prueba:\n",
    "\n",
    "    'instrucciones a ejecutar'\n",
    "\n",
    "Un ejemplo es "
   ]
  },
  {
   "cell_type": "code",
   "execution_count": 5,
   "metadata": {},
   "outputs": [
    {
     "name": "stdout",
     "output_type": "stream",
     "text": [
      "a no es igual a b\n"
     ]
    }
   ],
   "source": [
    "if a != b : \n",
    "    print('a no es igual a b')"
   ]
  },
  {
   "cell_type": "markdown",
   "metadata": {},
   "source": [
    "### Declaraciones else\n",
    "\n",
    "Se establece una acción a realizar si se cumple cualquier otra condición que no esté incluída dentro del $if$. Un ejemplo es el siguiente:"
   ]
  },
  {
   "cell_type": "code",
   "execution_count": 7,
   "metadata": {},
   "outputs": [
    {
     "name": "stdout",
     "output_type": "stream",
     "text": [
      "a es diferente que b\n"
     ]
    }
   ],
   "source": [
    "if a == b :\n",
    "    print('a es igual que b')\n",
    "else: \n",
    "    print('a es diferente que b')"
   ]
  },
  {
   "cell_type": "markdown",
   "metadata": {},
   "source": [
    "### Declaraciones elif\n",
    "\n",
    "Permite agregar condiciones o expresiones de prueba a las ya establecidas. Se desarrolla por línea, por lo que si se cumple la primera confición(si es true) la siguiente no se imprime.\n",
    "\n",
    "Un ejemplo con las tres declaraciones anteiores es:"
   ]
  },
  {
   "cell_type": "code",
   "execution_count": 10,
   "metadata": {},
   "outputs": [
    {
     "name": "stdout",
     "output_type": "stream",
     "text": [
      "Se cumple la segunda condición elif.\n"
     ]
    }
   ],
   "source": [
    "if 1==0 and 2<=10:\n",
    "    print('Se cumplen la primera condición')\n",
    "elif 1==1 and 3<=5:\n",
    "    print('Se cumple la segunda condición elif.')\n",
    "else:\n",
    "    print('no se cumplió con ninguna de las condiciones posibles')"
   ]
  },
  {
   "cell_type": "markdown",
   "metadata": {},
   "source": [
    "### Lógica condicional anidada\n",
    "\n",
    "La palabra anidada hace referencia a incluir una condición o ciclo dentro de otro, esto permite para realizar programas más complejos. Simplemente es crear la misma estructura denrto de las instrucciones a cumplir. "
   ]
  },
  {
   "cell_type": "markdown",
   "metadata": {},
   "source": [
    "### $or$ y $and$\n",
    "\n",
    "Simplemente son para crear condiciones más complicadas dentro del argumento del if/for. \n",
    "\n",
    "La tabla de verdad para $and$\n",
    "\n",
    "|subexpresión1|operador|subexpresión2|resultado|\n",
    "|---|---|---|---|\n",
    "|True|and|True|True|\n",
    "|True|and|False|False|\n",
    "|False|and|True||False|\n",
    "|False|and|False|False|\n",
    "\n",
    "Por otra parte, la table de verdad para $or$\n",
    "\n",
    "|subexpresión1|operador|subexpresión2|resultado|\n",
    "|---|---|---|---|\n",
    "|True|or|True|True|\n",
    "|True|or|False|True|\n",
    "|False|or|True||True|\n",
    "|False|or|False|False|\n"
   ]
  }
 ],
 "metadata": {
  "interpreter": {
   "hash": "a6142ba63bfc8c7147a8b00f0f36ba8b70392e253ee028f158dc436992103992"
  },
  "kernelspec": {
   "display_name": "Python 3.9.7 ('base')",
   "language": "python",
   "name": "python3"
  },
  "language_info": {
   "codemirror_mode": {
    "name": "ipython",
    "version": 3
   },
   "file_extension": ".py",
   "mimetype": "text/x-python",
   "name": "python",
   "nbconvert_exporter": "python",
   "pygments_lexer": "ipython3",
   "version": "3.9.7"
  },
  "orig_nbformat": 4
 },
 "nbformat": 4,
 "nbformat_minor": 2
}
