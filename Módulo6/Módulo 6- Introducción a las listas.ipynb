{
 "cells": [
  {
   "cell_type": "markdown",
   "metadata": {},
   "source": [
    "# Módulo 6- Introducción a las listas\n",
    "\n",
    "Podemos renombrar elementos de la lista simplemente declarando su valor con índice con otro elemento, es decir $lista[i]='nuevo\\;valor'$. \n",
    "\n",
    "Se puede eliminar un elemento de la lista con $.pop()$, admite como argumento el número de elemento de la lista, si se deja vacío elimina el último(también si se introduce el valor $-1$).\n",
    "\n",
    "Los índices negativos funcionan para marcar elementos en orden del final al inicio, comenzando con $-1$ (no tiene sentido $-0$).\n",
    "\n",
    "### Buscar un valor en una lista\n",
    "\n",
    "Se puede buscar un valor en una lista con $.index()$, admite como entrada el elemento a buscar. Si no obtiene resultados arroja $-1$.\n",
    "\n",
    "### Valores máximos y mínimos de un lista\n",
    "\n",
    "Para los valores máximos se usa $max()$ y mínimo $min()$, donde ambos reciben como entrada la lista.\n",
    "\n",
    "### Slice list\n",
    "\n",
    "Podemos extraer trozos  de una lista simplemente introduciiendo los límites de esta lista, es decir $lista[i:j]$ donde $i$ y $j$ son los respectivos límites. Si no se incluye el límite $j$ (es decir $[i:]$) se irá hasta el final de la lista. El slice crea una nueva lista, no modifica la existente. \n",
    "\n",
    "### Uniendo listas\n",
    "\n",
    "Las listas son su propio tipo de variable. Para unirlas solo hace falta sumarlas. No existe ningún otro tipo de operación de esta forma relacionada con las listas. De igual forma al unir listas se crea una nueva, no se modifica la anterior. \n",
    "\n",
    "### Ordenar una lista\n",
    "\n",
    "Para ordenar una lista se puede utilizar el comando $sort()$ que ordenará una lista de strings de manera alfabética y en orden numérico en caso de ser int. Admite como entrada especificaciones, como lo es $lista.sort(reverse=True)$ que simplemente ordena la lista de forma inversa. IMPORTANTE: $.sort()$ sí modifica la lista original.\n"
   ]
  }
 ],
 "metadata": {
  "interpreter": {
   "hash": "a6142ba63bfc8c7147a8b00f0f36ba8b70392e253ee028f158dc436992103992"
  },
  "kernelspec": {
   "display_name": "Python 3.9.7 ('base')",
   "language": "python",
   "name": "python3"
  },
  "language_info": {
   "codemirror_mode": {
    "name": "ipython",
    "version": 3
   },
   "file_extension": ".py",
   "mimetype": "text/x-python",
   "name": "python",
   "nbconvert_exporter": "python",
   "pygments_lexer": "ipython3",
   "version": "3.9.7"
  },
  "orig_nbformat": 4
 },
 "nbformat": 4,
 "nbformat_minor": 2
}
