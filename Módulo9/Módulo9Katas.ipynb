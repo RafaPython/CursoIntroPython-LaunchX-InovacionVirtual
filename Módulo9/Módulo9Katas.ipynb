{
 "cells": [
  {
   "cell_type": "markdown",
   "metadata": {},
   "source": [
    "# Ejercicio 1: Trabajar con argumentos en funciones"
   ]
  },
  {
   "cell_type": "code",
   "execution_count": 25,
   "metadata": {},
   "outputs": [],
   "source": [
    "def porTanque(x, capacidad ):\n",
    "    # Calcula el porcentaje de combustible en un tanque.\n",
    "    return 100*x / capacidad\n",
    "\n",
    "def combustible(tanque1, tanque2, tanque3, capacidad=100 ) :\n",
    "    # La función da un informe. El tanque es de 100 unidades por default\n",
    "    promedio = (100*(tanque1 + tanque2 +tanque3)) / (3*capacidad)\n",
    "    return f\"\"\"El nivel del tanque1 es {porTanque(tanque1, capacidad)}\n",
    "    El nivel del tanque2 es {porTanque(tanque2, capacidad)}\n",
    "    El nivel del tanque3 es {porTanque(tanque3, capacidad)}\n",
    "    El promedio de los tres tanques es {promedio}\n",
    "    \"\"\""
   ]
  },
  {
   "cell_type": "code",
   "execution_count": 26,
   "metadata": {},
   "outputs": [
    {
     "name": "stdout",
     "output_type": "stream",
     "text": [
      "El nivel del tanque1 es 23.0\n",
      "    El nivel del tanque2 es 12.0\n",
      "    El nivel del tanque3 es 49.0\n",
      "    El promedio de los tres tanques es 28.0\n",
      "    \n"
     ]
    }
   ],
   "source": [
    "print(combustible(23,12,49))"
   ]
  },
  {
   "cell_type": "markdown",
   "metadata": {},
   "source": []
  },
  {
   "cell_type": "code",
   "execution_count": 27,
   "metadata": {},
   "outputs": [],
   "source": [
    "#   Creamos una función para el promedio \n",
    "\n",
    "def promedio(datos):\n",
    "    # Esta función calcula el promedio de n datos. \n",
    "    return sum(datos)/len(datos)"
   ]
  },
  {
   "cell_type": "code",
   "execution_count": 28,
   "metadata": {},
   "outputs": [
    {
     "name": "stdout",
     "output_type": "stream",
     "text": [
      "El nivel del tanque1 es 23.0%\n",
      "    El nivel del tanque2 es 12.0%\n",
      "    El nivel del tanque3 es 49.0%\n",
      "    El promedio de los tres tanques es 28.0%\n",
      "    \n"
     ]
    }
   ],
   "source": [
    "# Acualizamos la función \n",
    "\n",
    "def porTanque(x, capacidad ):\n",
    "    # Calcula el porcentaje de combustible en un tanque.\n",
    "    return 100*x / capacidad\n",
    "\n",
    "def combustible(tanque1, tanque2, tanque3, capacidad=100 ) :\n",
    "    # La función da un informe. El tanque es de 100 unidades por default\n",
    "    return f\"\"\"El nivel del tanque1 es {porTanque(tanque1, capacidad)}%\n",
    "    El nivel del tanque2 es {porTanque(tanque2, capacidad)}%\n",
    "    El nivel del tanque3 es {porTanque(tanque3, capacidad)}%\n",
    "    El promedio de los tres tanques es {promedio([tanque1,tanque2,tanque3])}%\n",
    "    \"\"\"\n",
    "print(combustible(23,12,49))"
   ]
  },
  {
   "cell_type": "markdown",
   "metadata": {},
   "source": [
    "# Ejercicio 2: Trabajo con argumentos de palabra clave"
   ]
  },
  {
   "cell_type": "code",
   "execution_count": 29,
   "metadata": {},
   "outputs": [
    {
     "name": "stdout",
     "output_type": "stream",
     "text": [
      " INFORME DE MISIÓN\n",
      "    DESTINO:Marte\n",
      "    TIEMPO DE VUELO: 95 minutos\n",
      "    COMBUSTIBLE RESTANTE: 1666811 litros \n",
      "None\n"
     ]
    }
   ],
   "source": [
    "# Función con un informe preciso de la misión. Considera hora de prelanzamiento, tiempo de vuelo, destino, tanque externo y tanque interno\n",
    "\n",
    "def informe(prelanzamiento,tiempoVuelo, destino, tanqueExt, tanqueInt):\n",
    "    return print(f\"\"\" INFORME DE MISIÓN\n",
    "    DESTINO:{destino}\n",
    "    TIEMPO DE VUELO: {prelanzamiento + tiempoVuelo} minutos\n",
    "    COMBUSTIBLE RESTANTE: {tanqueExt + tanqueInt} litros \"\"\")\n",
    "print(informe(28,67,\"Marte\",784320,882491))"
   ]
  },
  {
   "cell_type": "code",
   "execution_count": 30,
   "metadata": {},
   "outputs": [
    {
     "name": "stdout",
     "output_type": "stream",
     "text": [
      " INFORME DE MISIÓN\n",
      "    DESTINO:Marte\n",
      "    TIEMPO DE VUELO:60 minutos\n",
      "    COMBUSTIBLE RESTANTE:552459 litros\n",
      "    \n",
      "None\n"
     ]
    }
   ],
   "source": [
    "def informe(destino, *minutes, **fuel_reseroirs):\n",
    "    return print(f\"\"\" INFORME DE MISIÓN\n",
    "    DESTINO:{destino}\n",
    "    TIEMPO DE VUELO:{sum(minutes)} minutos\n",
    "    COMBUSTIBLE RESTANTE:{sum(fuel_reseroirs.values())} litros\n",
    "    \"\"\")\n",
    "print(informe(\"Marte\",23,25,12, tanqueExt= 320321, tanqueInt= 232138 ))"
   ]
  },
  {
   "cell_type": "code",
   "execution_count": 31,
   "metadata": {},
   "outputs": [
    {
     "name": "stdout",
     "output_type": "stream",
     "text": [
      " INFORME DE MISIÓN\n",
      "    DESTINO:Marte\n",
      "    TIEMPO DE VUELO:60 minutos\n",
      "    COMBUSTIBLE RESTANTE:552459 litros\n",
      "    El tanque tanqueExt tiene 320321 litros restantes\n",
      "El tanque tanqueInt tiene 232138 litros restantes\n",
      "\n"
     ]
    }
   ],
   "source": [
    "def informe(destino, *minutes, **fuel_reseroirs):\n",
    "    reporte = f\"\"\" INFORME DE MISIÓN\n",
    "    DESTINO:{destino}\n",
    "    TIEMPO DE VUELO:{sum(minutes)} minutos\n",
    "    COMBUSTIBLE RESTANTE:{sum(fuel_reseroirs.values())} litros\n",
    "    \"\"\"\n",
    "    for litros, tanque in fuel_reseroirs.items():\n",
    "        reporte += f\"\"\"El tanque {litros} tiene {tanque} litros restantes\\n\"\"\"\n",
    "    return reporte\n",
    "\n",
    "\n",
    "print(informe(\"Marte\",23,25,12, tanqueExt= 320321, tanqueInt= 232138 ))"
   ]
  }
 ],
 "metadata": {
  "interpreter": {
   "hash": "a6142ba63bfc8c7147a8b00f0f36ba8b70392e253ee028f158dc436992103992"
  },
  "kernelspec": {
   "display_name": "Python 3.9.7 ('base')",
   "language": "python",
   "name": "python3"
  },
  "language_info": {
   "codemirror_mode": {
    "name": "ipython",
    "version": 3
   },
   "file_extension": ".py",
   "mimetype": "text/x-python",
   "name": "python",
   "nbconvert_exporter": "python",
   "pygments_lexer": "ipython3",
   "version": "3.9.7"
  },
  "orig_nbformat": 4
 },
 "nbformat": 4,
 "nbformat_minor": 2
}
