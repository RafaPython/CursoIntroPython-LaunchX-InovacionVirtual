{
 "cells": [
  {
   "cell_type": "markdown",
   "metadata": {},
   "source": [
    "# Módulo 9 - Funciones\n",
    "\n",
    "Una función puede carecer de argumentos (por ejemplo una función que solamente imprime una sentancia sin variable es una función que carece de argumentos)"
   ]
  },
  {
   "cell_type": "code",
   "execution_count": 3,
   "metadata": {},
   "outputs": [
    {
     "name": "stdout",
     "output_type": "stream",
     "text": [
      "esta es una función sin argumentos\n"
     ]
    }
   ],
   "source": [
    "def sinArgumentos():\n",
    "    print('esta es una función sin argumentos')\n",
    "sinArgumentos()"
   ]
  },
  {
   "cell_type": "markdown",
   "metadata": {},
   "source": [
    "$Nota$: Existe la función $any()$ que toma como entrada una lista lógica y arroja como resultado $True$ si alguno de los elementos de la lista es $True$ y $False$ si ninguno lo es. \n",
    "\n",
    "Se puede creat un string vacío si dejamos $str()$ vacío. "
   ]
  }
 ],
 "metadata": {
  "interpreter": {
   "hash": "a6142ba63bfc8c7147a8b00f0f36ba8b70392e253ee028f158dc436992103992"
  },
  "kernelspec": {
   "display_name": "Python 3.9.7 ('base')",
   "language": "python",
   "name": "python3"
  },
  "language_info": {
   "codemirror_mode": {
    "name": "ipython",
    "version": 3
   },
   "file_extension": ".py",
   "mimetype": "text/x-python",
   "name": "python",
   "nbconvert_exporter": "python",
   "pygments_lexer": "ipython3",
   "version": "3.9.7"
  },
  "orig_nbformat": 4
 },
 "nbformat": 4,
 "nbformat_minor": 2
}
