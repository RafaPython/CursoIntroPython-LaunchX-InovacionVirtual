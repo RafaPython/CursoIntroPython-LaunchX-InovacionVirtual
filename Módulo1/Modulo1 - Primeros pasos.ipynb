{
 "cells": [
  {
   "cell_type": "markdown",
   "metadata": {},
   "source": [
    "Aquí realizaré los ejercicios marcados dentro de la documentación del módulo 1. "
   ]
  },
  {
   "cell_type": "markdown",
   "metadata": {},
   "source": [
    "# La función $print()$"
   ]
  },
  {
   "cell_type": "code",
   "execution_count": 1,
   "metadata": {},
   "outputs": [
    {
     "name": "stdout",
     "output_type": "stream",
     "text": [
      "Hola desde la pantalla de la consola\n"
     ]
    }
   ],
   "source": [
    "print('Hola desde la pantalla de la consola')"
   ]
  },
  {
   "cell_type": "markdown",
   "metadata": {},
   "source": [
    "# Variables "
   ]
  },
  {
   "cell_type": "code",
   "execution_count": 2,
   "metadata": {},
   "outputs": [
    {
     "name": "stdout",
     "output_type": "stream",
     "text": [
      "6\n"
     ]
    }
   ],
   "source": [
    "sum = 1 + 2\n",
    "product = sum * 2 \n",
    "print(product)"
   ]
  },
  {
   "cell_type": "markdown",
   "metadata": {},
   "source": [
    "Podemos revisar el tipo de variable que tenemos con "
   ]
  },
  {
   "cell_type": "code",
   "execution_count": 3,
   "metadata": {},
   "outputs": [
    {
     "data": {
      "text/plain": [
       "int"
      ]
     },
     "execution_count": 3,
     "metadata": {},
     "output_type": "execute_result"
    }
   ],
   "source": [
    "type(sum)"
   ]
  },
  {
   "cell_type": "markdown",
   "metadata": {},
   "source": [
    "### Operadores de asignación \n",
    "\n",
    "Los operadores de asignación que tenemos a disposición son los siguientes: \n",
    "|Operadores| Ejemplo|\n",
    "|---|---|\n",
    "|=| Asigna un valor $c$ a la variable|\n",
    "|+=| Incrementa un valor $c$ a la variable|\n",
    "|-=| Reduce un valor $c$ a la variable|\n",
    "|/=|Divide por un valor $c$ a la variable|\n",
    "|*=| Multiplica por un valor $c$ a la variable|"
   ]
  },
  {
   "cell_type": "markdown",
   "metadata": {},
   "source": [
    "## Fechas\n",
    "\n",
    "Para crear fechas se dispondrá de la paquetería $datetime$ tal que\n",
    "\n",
    ">$from\\;datetime\\;import\\;date$\n",
    "\n",
    "Un ejemplo es invocar la función $today()$\n",
    "\n"
   ]
  },
  {
   "cell_type": "code",
   "execution_count": 5,
   "metadata": {},
   "outputs": [
    {
     "data": {
      "text/plain": [
       "datetime.date(2022, 2, 10)"
      ]
     },
     "execution_count": 5,
     "metadata": {},
     "output_type": "execute_result"
    }
   ],
   "source": [
    "from datetime import date   # Importamos la biblioteca\n",
    "date.today()                # Imprimimos la fecha"
   ]
  },
  {
   "cell_type": "markdown",
   "metadata": {},
   "source": [
    "Debemos notar que"
   ]
  },
  {
   "cell_type": "code",
   "execution_count": 8,
   "metadata": {},
   "outputs": [
    {
     "data": {
      "text/plain": [
       "datetime.date"
      ]
     },
     "execution_count": 8,
     "metadata": {},
     "output_type": "execute_result"
    }
   ],
   "source": [
    "type(date.today())"
   ]
  },
  {
   "cell_type": "markdown",
   "metadata": {},
   "source": [
    "## Conversión de tipos de datos\n",
    "\n",
    "Como se había notado anteriormente, $date$ genera su propio tipo de dato por lo tanto para utilizarno y acoplarlo a otras variables. Entonces para poder realizar operaciones necesitamos hacer tal que"
   ]
  },
  {
   "cell_type": "code",
   "execution_count": 14,
   "metadata": {},
   "outputs": [
    {
     "name": "stdout",
     "output_type": "stream",
     "text": [
      "Today's date is: 2022-02-10\n"
     ]
    }
   ],
   "source": [
    "print(\"Today's date is: \" + str(date.today()))  # Asimismo podemos usar una coma en lugar de +"
   ]
  },
  {
   "cell_type": "markdown",
   "metadata": {},
   "source": [
    "## Recompilar información \n",
    "\n",
    "### Entrada de usuario\n",
    "\n",
    "Para capturar información del usuario se utiliza $input()$."
   ]
  },
  {
   "cell_type": "code",
   "execution_count": 2,
   "metadata": {},
   "outputs": [
    {
     "name": "stdout",
     "output_type": "stream",
     "text": [
      "Bienvenido al programa de bienvenida\n",
      "Saludos: Rafa\n"
     ]
    }
   ],
   "source": [
    "print('Bienvenido al programa de bienvenida')\n",
    "name = input(\"Intrduzca su nombre \")\n",
    "print('Saludos: ' + name)"
   ]
  },
  {
   "cell_type": "markdown",
   "metadata": {},
   "source": [
    "### Trabajar con números \n",
    "\n",
    "La función almacena los resultados como una cadena. Por lo tanto si se quiere realizar alguna operación se hará bajo las reglas de las cadenas. Un claro ejemplo es el siguiente"
   ]
  },
  {
   "cell_type": "code",
   "execution_count": 3,
   "metadata": {},
   "outputs": [
    {
     "name": "stdout",
     "output_type": "stream",
     "text": [
      "Calculadora\n",
      "12\n"
     ]
    }
   ],
   "source": [
    "print('Calculadora')\n",
    "primer_numero = input(\"introduzca el primero número: \")\n",
    "segundo_numero = input(\" Introduzca el segundo número: \")\n",
    "print(primer_numero + segundo_numero)"
   ]
  },
  {
   "cell_type": "markdown",
   "metadata": {},
   "source": [
    "Debemos cambiar el $string$ a formato $int$ para poder realizar las operaciones"
   ]
  },
  {
   "cell_type": "code",
   "execution_count": 4,
   "metadata": {},
   "outputs": [
    {
     "name": "stdout",
     "output_type": "stream",
     "text": [
      "3\n"
     ]
    }
   ],
   "source": [
    "# ya no hace falta realizar todo el código anterior pues se reservó el espacio en la memoria\n",
    "\n",
    "print(int(primer_numero) + int(segundo_numero))"
   ]
  }
 ],
 "metadata": {
  "interpreter": {
   "hash": "a6142ba63bfc8c7147a8b00f0f36ba8b70392e253ee028f158dc436992103992"
  },
  "kernelspec": {
   "display_name": "Python 3.9.7 ('base')",
   "language": "python",
   "name": "python3"
  },
  "language_info": {
   "codemirror_mode": {
    "name": "ipython",
    "version": 3
   },
   "file_extension": ".py",
   "mimetype": "text/x-python",
   "name": "python",
   "nbconvert_exporter": "python",
   "pygments_lexer": "ipython3",
   "version": "3.9.7"
  },
  "orig_nbformat": 4
 },
 "nbformat": 4,
 "nbformat_minor": 2
}
