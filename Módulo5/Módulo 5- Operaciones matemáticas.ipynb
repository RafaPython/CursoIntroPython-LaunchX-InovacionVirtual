{
 "cells": [
  {
   "cell_type": "markdown",
   "metadata": {},
   "source": [
    "# Operaciones Matemáticas\n",
    "\n",
    "La división de piso está definido como $(x\\;//\\;y)$ y arroja el valor del $floor$ de la división. Así mismo el módulo (el resto de la divsión entera) está definida como $(x\\; \\% \\;y)$ \n",
    "\n",
    "### Jerarquía de operaciones\n",
    "\n",
    "La jerarquía es la siguiente\n",
    "\n",
    "1. Paréntesis\n",
    "2. Exponentes\n",
    "3. Multiplicación y división \n",
    "4. Suma y resta\n",
    "\n",
    "A veces resulta conveniente utilizar paréntesis para dejar más claro el orden de operación a simple vista. \n",
    "\n",
    "Para el valor absoluto utilícese $abs()$ y para el redonde $round()$. En la biblioteca $math$ se puede utilizar $ceil,floor$ para los operadores roof y floor respectivamente. "
   ]
  }
 ],
 "metadata": {
  "interpreter": {
   "hash": "a6142ba63bfc8c7147a8b00f0f36ba8b70392e253ee028f158dc436992103992"
  },
  "kernelspec": {
   "display_name": "Python 3.9.7 ('base')",
   "language": "python",
   "name": "python3"
  },
  "language_info": {
   "name": "python",
   "version": "3.9.7"
  },
  "orig_nbformat": 4
 },
 "nbformat": 4,
 "nbformat_minor": 2
}
