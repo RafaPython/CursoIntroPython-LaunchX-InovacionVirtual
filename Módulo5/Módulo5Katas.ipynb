{
 "cells": [
  {
   "cell_type": "markdown",
   "metadata": {},
   "source": [
    "# Ejercicio 1 - Utilizar operadores aritméticos"
   ]
  },
  {
   "cell_type": "code",
   "execution_count": 3,
   "metadata": {},
   "outputs": [],
   "source": [
    "# Almacenamos los datos \n",
    "\n",
    "distancia_tierra = 149597870 \n",
    "distancia_jupiter = 778547200     #Ambos en km"
   ]
  },
  {
   "cell_type": "code",
   "execution_count": 6,
   "metadata": {},
   "outputs": [
    {
     "name": "stdout",
     "output_type": "stream",
     "text": [
      "La distancias total entre la Tierra y Júpiter es:  390577533.93 millas\n"
     ]
    }
   ],
   "source": [
    "distancia_total = abs(distancia_tierra - distancia_jupiter)*0.621\n",
    "print('La distancias total entre la Tierra y Júpiter es: ',distancia_total,'millas')"
   ]
  },
  {
   "cell_type": "markdown",
   "metadata": {},
   "source": [
    "# Ejercicio 2: convierte cadenas en números y usa valores absolutos"
   ]
  },
  {
   "cell_type": "code",
   "execution_count": 17,
   "metadata": {},
   "outputs": [],
   "source": [
    "planeta_1 = int(input('Introduce la distancia del primer planeta: '))\n",
    "planeta_2 = int(input('Introduce la distancia del segundo planeta: '))"
   ]
  },
  {
   "cell_type": "code",
   "execution_count": 18,
   "metadata": {},
   "outputs": [
    {
     "name": "stdout",
     "output_type": "stream",
     "text": [
      "La distancia total entre los planetas es: 50300000 km o bien 31236300.0 en millas.\n"
     ]
    }
   ],
   "source": [
    "distancia_total = abs(planeta_1 - planeta_2)\n",
    "print('La distancia total entre los planetas es:',distancia_total,'km o bien', distancia_total*0.621, 'en millas.')"
   ]
  }
 ],
 "metadata": {
  "interpreter": {
   "hash": "a6142ba63bfc8c7147a8b00f0f36ba8b70392e253ee028f158dc436992103992"
  },
  "kernelspec": {
   "display_name": "Python 3.9.7 ('base')",
   "language": "python",
   "name": "python3"
  },
  "language_info": {
   "codemirror_mode": {
    "name": "ipython",
    "version": 3
   },
   "file_extension": ".py",
   "mimetype": "text/x-python",
   "name": "python",
   "nbconvert_exporter": "python",
   "pygments_lexer": "ipython3",
   "version": "3.9.7"
  },
  "orig_nbformat": 4
 },
 "nbformat": 4,
 "nbformat_minor": 2
}
